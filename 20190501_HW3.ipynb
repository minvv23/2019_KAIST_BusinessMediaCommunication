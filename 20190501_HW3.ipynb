{
 "cells": [
  {
   "cell_type": "markdown",
   "metadata": {},
   "source": [
    "### 비즈니스 미디어 통신 HW3 Solution - 20193019 강태영"
   ]
  },
  {
   "cell_type": "markdown",
   "metadata": {},
   "source": [
    "이번 HW3의 DPC(Distributed Power Control) 문제는 각 **player**인 스마트폰이 \"power level을 어떻게 설정할 것인가\"에 대한 **strategic choice**를 다루고 있다. 이 때의 **payoff**는 목표 SIR 값($\\gamma$)을 만족하는 조건 하에서의 power 최소값이다. 또한, 후술할 SIR의 계산식과 non-identity gain matrix($G$)에서 볼 수 있듯 각 player의 strategy는 다른 player의 power에 dependent한 상황이다. 즉, 한 player의 transmit power 증가가 곧 다른 player에게의 interference로 작용하기에, 각 player들은 이를 감안하여 equillibrium에 도달해야 한다. 따라서,  DPC는 전략적 의사결정이 수반되는 게임 상황이라고 해석 가능하다."
   ]
  },
  {
   "cell_type": "markdown",
   "metadata": {},
   "source": [
    "본 문제의 SIR 및 Power(P) 계산식을 일반화해서 작성하면 아래와 같다.  \n",
    "$P_i[t+1] = \\frac{\\gamma_j}{SIR_i[t]}P_i[t]$$\\;\\;\\;$($i = \\{A,B,C\\}$ and $j = \\{a,b,c\\}$)  \n",
    "\n",
    "따라서 Power가 t 시점에서 특정 값으로 수렴한다고 가정한다면 $P_i[t+1] = P_i[t]$일 것이고, 결과적으로  $\\frac{\\gamma_j}{SIR_i[t]}$는 1이어야 한다. 즉, $\\gamma_j = SIR_i[t]$  이다. 이를 바탕으로 각 A, B, C에 대해 계산 식을 정리하면, 다음 연립방정식 형태로 도출된다.  \n",
    "$22b+11c+11=50a$  \n",
    "$3a+3c+1=5b$  \n",
    "$34a+17b+17=100c$  \n",
    "  \n",
    "연립방정식의 해, 즉 Power의 수렴값을 계산하면 결과는 다음과 같다"
   ]
  },
  {
   "cell_type": "code",
   "execution_count": 1,
   "metadata": {},
   "outputs": [
    {
     "name": "stdout",
     "output_type": "stream",
     "text": [
      "{a: 9383/11175, b: 4053/3725, c: 7157/11175}\n"
     ]
    }
   ],
   "source": [
    "# Calculating Convergence Value of Power by Simultaneous Equations\n",
    "import sys, math, numpy as np, pandas as pd, matplotlib.pyplot as plt\n",
    "from sympy import Symbol, solve, Eq\n",
    "\n",
    "a, b, c = Symbol('a'), Symbol('b'), Symbol('c')\n",
    "e1 = Eq(22*b + 11*c +11, 50*a)\n",
    "e2 = Eq(3*a + 3*c + 1, 5*b)\n",
    "e3 = Eq(34*a + 17*b + 17, 100*c)\n",
    "eq_output = solve([e1, e2, e3], a, b, c, rational=False)\n",
    "print(eq_output)\n",
    "\n",
    "Power_A_conv = np.round(float(list(eq_output.values())[0]),5)\n",
    "Power_B_conv = np.round(float(list(eq_output.values())[1]),5)\n",
    "Power_C_conv = np.round(float(list(eq_output.values())[2]),5)"
   ]
  },
  {
   "cell_type": "markdown",
   "metadata": {},
   "source": [
    "아래의 SIR 계산식에 대해 150회 iteration 결과를 구현하면, SIR는 target value인 2.2, 2.0, 1.7로, Power Level은 위에서 계산한 9383/11175, 4053/3725, 7157/11175로 수렴해야 한다. 계산 코드는 바로 아래의 셀[2]에서 구현했다.  \n",
    "  \n",
    "$SIR_A = \\frac{A_a*Power_A}{A_b*Power_B+A_c*Power_C+noise}$  \n",
    "  \n",
    "$SIR_B = \\frac{B_b*Power_B}{B_a*Power_B+A_c*Power_C+noise}$  \n",
    "  \n",
    "$SIR_C = \\frac{C_c*Power_C}{C_a*Power_B+A_c*Power_C+noise}$  "
   ]
  },
  {
   "cell_type": "code",
   "execution_count": 2,
   "metadata": {},
   "outputs": [],
   "source": [
    "# 150 times iteration for SIR and Power Level convergence\n",
    "final_SIR, final_Power = ([] for i in range(2))\n",
    "A, B, C, SIR, Power, r = ({} for i in range(6))\n",
    "\n",
    "noise = .1\n",
    "r['a'], r['b'], r['c'] = 2.2, 2, 1.7\n",
    "Power['A'], Power['B'], Power['C'] = 1, 1, 1 #initial power level\n",
    "A['a'], A['b'], A['c'] = 1, .2, .1\n",
    "B['a'], B['b'], B['c'] = .3, 1, .3\n",
    "C['a'], C['b'], C['c'] = .2, .1, 1\n",
    "\n",
    "for i in range(150) :  \n",
    "    SIR['A'] = A['a']*Power['A']/(A['b']*Power['B'] + A['c']*Power['C'] + noise)\n",
    "    SIR['B'] = B['b']*Power['B']/(B['a']*Power['A'] + B['c']*Power['C'] + noise)\n",
    "    SIR['C'] = C['c']*Power['C']/(C['a']*Power['A'] + C['b']*Power['B'] + noise)\n",
    "\n",
    "    Power['A'] = r['a']*Power['A'] / SIR['A']\n",
    "    Power['B'] = r['b']*Power['B'] / SIR['B']\n",
    "    Power['C'] = r['c']*Power['C'] / SIR['C']\n",
    "    \n",
    "    SIR_result = [SIR['A'], SIR['B'], SIR['C']]\n",
    "    Power_result = [Power['A'], Power['B'], Power['C']]\n",
    "    final_SIR.append(SIR_result)\n",
    "    final_Power.append(Power_result)"
   ]
  },
  {
   "cell_type": "code",
   "execution_count": 3,
   "metadata": {},
   "outputs": [
    {
     "name": "stdout",
     "output_type": "stream",
     "text": [
      "The final values of SIR are [2.2 2.  1.7]\n",
      "The final values of Power level are [0.83964 1.08805 0.64045]\n"
     ]
    },
    {
     "data": {
      "image/png": "[encoded data removed]",
      "text/plain": [
       "<Figure size 432x288 with 1 Axes>"
      ]
     },
     "metadata": {
      "needs_background": "light"
     },
     "output_type": "display_data"
    }
   ],
   "source": [
    "# Simulation Output Visualization\n",
    "plt.plot(final_SIR); plt.plot(final_Power)\n",
    "print('The final values of SIR are', np.round(final_SIR[len(final_SIR)-1], 5))\n",
    "print('The final values of Power level are', np.round(final_Power[len(final_Power)-1],5))"
   ]
  },
  {
   "cell_type": "markdown",
   "metadata": {},
   "source": [
    "150회 iteration을 실시한 결과, SIR와 Power level 모두 예측값에 수렴하는 것으로 나타났다. 또한 아래의 셀[4]에서 코드를 통해 소수점 다섯번째 자리에서 반올림한 결과, Power level이  정확히 수렴값에 도달하는건 44번째 iteration부터였다."
   ]
  },
  {
   "cell_type": "code",
   "execution_count": 4,
   "metadata": {},
   "outputs": [
    {
     "name": "stdout",
     "output_type": "stream",
     "text": [
      "Power converges since 44th value.\n",
      "The 44th values of SIRs are [2.200000761251543, 2.0000007305794134, 1.7000005762187906]\n"
     ]
    }
   ],
   "source": [
    "for index, content in enumerate(final_Power) :\n",
    "    if np.all(np.round(content, 5) == [Power_A_conv, Power_B_conv, Power_C_conv]) :\n",
    "        print('Power converges since ', index, 'th value.', sep='')\n",
    "        break\n",
    "print('The ', index, 'th values of SIRs are ', final_SIR[index], sep='')"
   ]
  }
 ],
 "metadata": {
  "kernelspec": {
   "display_name": "Python 3",
   "language": "python",
   "name": "python3"
  },
  "language_info": {
   "codemirror_mode": {
    "name": "ipython",
    "version": 3
   },
   "file_extension": ".py",
   "mimetype": "text/x-python",
   "name": "python",
   "nbconvert_exporter": "python",
   "pygments_lexer": "ipython3",
   "version": "3.7.1"
  }
 },
 "nbformat": 4,
 "nbformat_minor": 2
}
