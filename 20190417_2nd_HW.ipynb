{
 "cells": [
  {
   "cell_type": "markdown",
   "metadata": {},
   "source": [
    "# 20190417 Business Media Communication\n",
    "## 2nd Assignment"
   ]
  },
  {
   "cell_type": "code",
   "execution_count": 2,
   "metadata": {},
   "outputs": [],
   "source": [
    "import numpy as np, pandas as pd, matplotlib.pyplot as plt"
   ]
  },
  {
   "cell_type": "code",
   "execution_count": 3,
   "metadata": {},
   "outputs": [],
   "source": [
    "beta = 1/11\n",
    "c = [3,2,3,2,3,2] #1,2,3,4,5,6\n",
    "p = [9,8,7,6,7,4] #list(np.repeat(3,6))\n",
    "q = [p[0] + p[2] + p[4], p[2] + p[4] + p[5], p[0] + p[1] + p[3]]\n",
    "x = [1/each for each in q]\n",
    "\n",
    "x_list = []\n",
    "p_list = []\n",
    "\n",
    "for i in range(10000) :\n",
    "    p[0] = max(0, p[0]+(x[0]+x[2]-c[0])*beta)\n",
    "    p[1] = max(0, p[1]+(x[2]-c[1])*beta)\n",
    "    p[2] = max(0, p[2]+(x[0]+x[1]-c[2])*beta)\n",
    "    p[3] = max(0, p[3]+(x[2]-c[3])*beta)\n",
    "    p[4] = max(0, p[4]+(x[0]+x[1]-c[4])*beta)\n",
    "    p[5] = max(0, p[5]+(x[1]-c[5])*beta)\n",
    "    p_sum = [p[0], p[1], p[2], p[3], p[4], p[5]]\n",
    "    \n",
    "    q = [p[0] + p[2] + p[4], p[2] + p[4] + p[5], p[0] + p[1] + p[3]]\n",
    "    x = [1/each for each in q]\n",
    "    \n",
    "    p_list.append(p_sum)\n",
    "    x_list.append(np.round(x,2))"
   ]
  },
  {
   "cell_type": "code",
   "execution_count": 4,
   "metadata": {},
   "outputs": [
    {
     "data": {
      "text/plain": [
       "[<matplotlib.lines.Line2D at 0x12dbdb3bf98>,\n",
       " <matplotlib.lines.Line2D at 0x12dbdd9a128>,\n",
       " <matplotlib.lines.Line2D at 0x12dbdd9a278>,\n",
       " <matplotlib.lines.Line2D at 0x12dbdd9a3c8>,\n",
       " <matplotlib.lines.Line2D at 0x12dbdd9a518>,\n",
       " <matplotlib.lines.Line2D at 0x12dbdd9a668>]"
      ]
     },
     "execution_count": 4,
     "metadata": {},
     "output_type": "execute_result"
    },
    {
     "data": {
      "image/png": "[encoded data removed]",
      "text/plain": [
       "<Figure size 432x288 with 1 Axes>"
      ]
     },
     "metadata": {
      "needs_background": "light"
     },
     "output_type": "display_data"
    }
   ],
   "source": [
    "plt.plot(p_list)"
   ]
  },
  {
   "cell_type": "code",
   "execution_count": 6,
   "metadata": {},
   "outputs": [
    {
     "data": {
      "text/plain": [
       "[<matplotlib.lines.Line2D at 0x12dbee6bbe0>,\n",
       " <matplotlib.lines.Line2D at 0x12dbee6bd68>,\n",
       " <matplotlib.lines.Line2D at 0x12dbee6beb8>]"
      ]
     },
     "execution_count": 6,
     "metadata": {},
     "output_type": "execute_result"
    },
    {
     "data": {
      "image/png": "[encoded data removed]",
      "text/plain": [
       "<Figure size 432x288 with 1 Axes>"
      ]
     },
     "metadata": {
      "needs_background": "light"
     },
     "output_type": "display_data"
    }
   ],
   "source": [
    "plt.plot(x_list)"
   ]
  },
  {
   "cell_type": "code",
   "execution_count": 26,
   "metadata": {},
   "outputs": [
    {
     "name": "stdout",
     "output_type": "stream",
     "text": [
      "0 [0.05 0.06 0.04]\n",
      "1 [0.05 0.06 0.05]\n",
      "2 [0.05 0.06 0.05]\n",
      "3 [0.05 0.07 0.05]\n",
      "4 [0.05 0.07 0.05]\n",
      "5 [0.05 0.07 0.05]\n",
      "6 [0.06 0.08 0.05]\n",
      "7 [0.06 0.08 0.06]\n",
      "8 [0.06 0.09 0.06]\n",
      "9 [0.07 0.09 0.06]\n",
      "10 [0.07 0.1  0.06]\n",
      "11 [0.07 0.1  0.06]\n",
      "12 [0.08 0.11 0.07]\n",
      "13 [0.08 0.12 0.07]\n",
      "14 [0.09 0.13 0.07]\n",
      "15 [0.1  0.14 0.08]\n",
      "16 [0.1  0.16 0.08]\n",
      "17 [0.11 0.18 0.08]\n",
      "18 [0.12 0.2  0.09]\n",
      "19 [0.13 0.23 0.09]\n",
      "20 [0.15 0.28 0.1 ]\n",
      "21 [0.17 0.33 0.1 ]\n",
      "22 [0.19 0.42 0.11]\n",
      "23 [0.21 0.53 0.12]\n",
      "24 [0.25 0.68 0.13]\n",
      "25 [0.29 0.91 0.14]\n",
      "26 [0.35 1.3  0.15]\n",
      "27 [0.42 1.91 0.17]\n",
      "28 [0.49 2.49 0.18]\n",
      "29 [0.55 2.26 0.2 ]\n",
      "30 [0.63 2.32 0.23]\n",
      "31 [0.73 2.21 0.26]\n",
      "32 [0.85 2.17 0.29]\n",
      "33 [0.99 2.08 0.34]\n",
      "34 [1.14 2.   0.4 ]\n",
      "35 [1.3  1.9  0.45]\n",
      "36 [1.45 1.8  0.51]\n",
      "37 [1.56 1.72 0.58]\n",
      "38 [1.63 1.65 0.65]\n",
      "39 [1.67 1.6  0.75]\n",
      "40 [1.62 1.57 0.84]\n",
      "41 [1.53 1.53 0.92]\n",
      "42 [1.51 1.51 1.01]\n",
      "43 [1.5  1.5  1.11]\n",
      "44 [1.5  1.5  1.22]\n",
      "45 [1.5  1.5  1.33]\n",
      "46 [1.5  1.5  1.45]\n",
      "47 [1.5  1.5  1.56]\n",
      "48 [1.49 1.5  1.65]\n",
      "49 [1.46 1.51 1.71]\n",
      "50 [1.44 1.52 1.74]\n",
      "51 [1.42 1.53 1.76]\n",
      "52 [1.41 1.55 1.78]\n",
      "53 [1.39 1.57 1.79]\n",
      "54 [1.37 1.59 1.8 ]\n",
      "55 [1.36 1.61 1.81]\n",
      "56 [1.34 1.62 1.82]\n",
      "57 [1.33 1.64 1.82]\n",
      "58 [1.31 1.66 1.83]\n",
      "59 [1.3  1.67 1.84]\n",
      "60 [1.29 1.69 1.85]\n",
      "61 [1.28 1.7  1.85]\n",
      "62 [1.26 1.71 1.86]\n",
      "63 [1.25 1.73 1.86]\n",
      "64 [1.24 1.74 1.87]\n",
      "65 [1.23 1.75 1.88]\n",
      "66 [1.22 1.76 1.88]\n",
      "67 [1.21 1.77 1.89]\n",
      "68 [1.2  1.78 1.89]\n",
      "69 [1.2  1.79 1.9 ]\n",
      "70 [1.19 1.8  1.9 ]\n",
      "71 [1.18 1.81 1.9 ]\n",
      "72 [1.17 1.81 1.91]\n",
      "73 [1.17 1.82 1.91]\n",
      "74 [1.16 1.83 1.91]\n",
      "75 [1.15 1.84 1.92]\n",
      "76 [1.15 1.84 1.92]\n",
      "77 [1.14 1.85 1.92]\n",
      "78 [1.14 1.85 1.93]\n",
      "79 [1.13 1.86 1.93]\n",
      "80 [1.13 1.87 1.93]\n",
      "81 [1.12 1.87 1.94]\n",
      "82 [1.12 1.88 1.94]\n",
      "83 [1.11 1.88 1.94]\n",
      "84 [1.11 1.89 1.94]\n",
      "85 [1.1  1.89 1.95]\n",
      "86 [1.1  1.89 1.95]\n",
      "87 [1.1  1.9  1.95]\n",
      "88 [1.09 1.9  1.95]\n",
      "89 [1.09 1.91 1.95]\n",
      "90 [1.09 1.91 1.95]\n",
      "91 [1.08 1.91 1.96]\n",
      "92 [1.08 1.92 1.96]\n",
      "93 [1.08 1.92 1.96]\n",
      "94 [1.07 1.92 1.96]\n",
      "95 [1.07 1.93 1.96]\n",
      "96 [1.07 1.93 1.96]\n",
      "97 [1.07 1.93 1.97]\n",
      "98 [1.06 1.93 1.97]\n",
      "99 [1.06 1.94 1.97]\n",
      "100 [1.06 1.94 1.97]\n",
      "101 [1.06 1.94 1.97]\n",
      "102 [1.05 1.94 1.97]\n",
      "103 [1.05 1.94 1.97]\n",
      "104 [1.05 1.95 1.97]\n",
      "105 [1.05 1.95 1.97]\n",
      "106 [1.05 1.95 1.98]\n",
      "107 [1.05 1.95 1.98]\n",
      "108 [1.04 1.95 1.98]\n",
      "109 [1.04 1.96 1.98]\n",
      "110 [1.04 1.96 1.98]\n",
      "111 [1.04 1.96 1.98]\n",
      "112 [1.04 1.96 1.98]\n",
      "113 [1.04 1.96 1.98]\n",
      "114 [1.04 1.96 1.98]\n",
      "115 [1.03 1.96 1.98]\n",
      "116 [1.03 1.97 1.98]\n",
      "117 [1.03 1.97 1.98]\n",
      "118 [1.03 1.97 1.98]\n",
      "119 [1.03 1.97 1.98]\n",
      "120 [1.03 1.97 1.99]\n",
      "121 [1.03 1.97 1.99]\n",
      "122 [1.03 1.97 1.99]\n",
      "123 [1.03 1.97 1.99]\n",
      "124 [1.02 1.97 1.99]\n",
      "125 [1.02 1.98 1.99]\n",
      "126 [1.02 1.98 1.99]\n",
      "127 [1.02 1.98 1.99]\n",
      "128 [1.02 1.98 1.99]\n",
      "129 [1.02 1.98 1.99]\n",
      "130 [1.02 1.98 1.99]\n",
      "131 [1.02 1.98 1.99]\n",
      "132 [1.02 1.98 1.99]\n",
      "133 [1.02 1.98 1.99]\n",
      "134 [1.02 1.98 1.99]\n",
      "135 [1.02 1.98 1.99]\n",
      "136 [1.02 1.98 1.99]\n",
      "137 [1.02 1.98 1.99]\n",
      "138 [1.01 1.98 1.99]\n",
      "139 [1.01 1.98 1.99]\n",
      "140 [1.01 1.99 1.99]\n",
      "141 [1.01 1.99 1.99]\n",
      "142 [1.01 1.99 1.99]\n",
      "143 [1.01 1.99 1.99]\n",
      "144 [1.01 1.99 1.99]\n",
      "145 [1.01 1.99 1.99]\n",
      "146 [1.01 1.99 1.99]\n",
      "147 [1.01 1.99 1.99]\n",
      "148 [1.01 1.99 1.99]\n",
      "149 [1.01 1.99 1.99]\n",
      "150 [1.01 1.99 1.99]\n",
      "151 [1.01 1.99 2.  ]\n",
      "152 [1.01 1.99 2.  ]\n",
      "153 [1.01 1.99 2.  ]\n",
      "154 [1.01 1.99 2.  ]\n",
      "155 [1.01 1.99 2.  ]\n",
      "156 [1.01 1.99 2.  ]\n",
      "157 [1.01 1.99 2.  ]\n",
      "158 [1.01 1.99 2.  ]\n",
      "159 [1.01 1.99 2.  ]\n",
      "160 [1.01 1.99 2.  ]\n",
      "161 [1.01 1.99 2.  ]\n",
      "162 [1.01 1.99 2.  ]\n",
      "163 [1.01 1.99 2.  ]\n",
      "164 [1.01 1.99 2.  ]\n",
      "165 [1.01 1.99 2.  ]\n",
      "166 [1.01 1.99 2.  ]\n",
      "167 [1.01 1.99 2.  ]\n",
      "168 [1.01 1.99 2.  ]\n",
      "169 [1.   1.99 2.  ]\n",
      "170 [1.   1.99 2.  ]\n",
      "171 [1. 2. 2.]\n",
      "172 [1. 2. 2.]\n",
      "173 [1. 2. 2.]\n",
      "174 [1. 2. 2.]\n",
      "175 [1. 2. 2.]\n",
      "176 [1. 2. 2.]\n",
      "177 [1. 2. 2.]\n",
      "178 [1. 2. 2.]\n",
      "179 [1. 2. 2.]\n",
      "180 [1. 2. 2.]\n",
      "181 [1. 2. 2.]\n",
      "182 [1. 2. 2.]\n",
      "183 [1. 2. 2.]\n",
      "184 [1. 2. 2.]\n",
      "185 [1. 2. 2.]\n",
      "186 [1. 2. 2.]\n",
      "187 [1. 2. 2.]\n",
      "188 [1. 2. 2.]\n",
      "189 [1. 2. 2.]\n",
      "190 [1. 2. 2.]\n",
      "191 [1. 2. 2.]\n",
      "192 [1. 2. 2.]\n",
      "193 [1. 2. 2.]\n",
      "194 [1. 2. 2.]\n",
      "195 [1. 2. 2.]\n",
      "196 [1. 2. 2.]\n",
      "197 [1. 2. 2.]\n",
      "198 [1. 2. 2.]\n",
      "199 [1. 2. 2.]\n"
     ]
    }
   ],
   "source": [
    "for i, j in enumerate(x_list[:200]):\n",
    "    print(i,j) #converges since 172nd value"
   ]
  }
 ],
 "metadata": {
  "kernelspec": {
   "display_name": "Python 3",
   "language": "python",
   "name": "python3"
  },
  "language_info": {
   "codemirror_mode": {
    "name": "ipython",
    "version": 3
   },
   "file_extension": ".py",
   "mimetype": "text/x-python",
   "name": "python",
   "nbconvert_exporter": "python",
   "pygments_lexer": "ipython3",
   "version": "3.7.1"
  }
 },
 "nbformat": 4,
 "nbformat_minor": 2
}
